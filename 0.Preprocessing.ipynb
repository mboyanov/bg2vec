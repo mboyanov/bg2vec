{
 "cells": [
  {
   "cell_type": "code",
   "execution_count": 1,
   "id": "bc02e3ea-9f34-4905-8937-1e5540c96d32",
   "metadata": {},
   "outputs": [],
   "source": [
    "from bg2vec.data_util import load_raw_datasets\n",
    "from bg2vec.arguments import DataTrainingArguments, ModelArguments\n",
    "from transformers import TrainingArguments"
   ]
  },
  {
   "cell_type": "code",
   "execution_count": 2,
   "id": "edb39efd-f8e0-4a00-aebb-3f23e8a664be",
   "metadata": {},
   "outputs": [],
   "source": [
    "data_args = DataTrainingArguments(dataset_name = \"mboyanov/bgwiki\")"
   ]
  },
  {
   "cell_type": "code",
   "execution_count": 3,
   "id": "8474cadc-0890-4908-adce-eca75d8ca8bb",
   "metadata": {},
   "outputs": [],
   "source": [
    "model_args = ModelArguments()"
   ]
  },
  {
   "cell_type": "code",
   "execution_count": 9,
   "id": "5dd45df0-b87e-4ba4-8934-3c57bc633c21",
   "metadata": {},
   "outputs": [],
   "source": [
    "training_args = TrainingArguments(\"/tmp\")"
   ]
  },
  {
   "cell_type": "code",
   "execution_count": 4,
   "id": "0edc67de-38c0-4fe7-a427-e268d4232a52",
   "metadata": {},
   "outputs": [],
   "source": [
    "raw_datasets = load_raw_datasets(data_args, model_args)"
   ]
  },
  {
   "cell_type": "code",
   "execution_count": 5,
   "id": "5f6cbc32-3598-497f-ad2c-510edec797ed",
   "metadata": {},
   "outputs": [
    {
     "data": {
      "text/plain": [
       "DatasetDict({\n",
       "    train: Dataset({\n",
       "        features: ['id', 'revid', 'url', 'title', 'text', '__index_level_0__'],\n",
       "        num_rows: 280019\n",
       "    })\n",
       "    validation: Dataset({\n",
       "        features: ['id', 'revid', 'url', 'title', 'text', '__index_level_0__'],\n",
       "        num_rows: 14738\n",
       "    })\n",
       "})"
      ]
     },
     "execution_count": 5,
     "metadata": {},
     "output_type": "execute_result"
    }
   ],
   "source": [
    "raw_datasets"
   ]
  },
  {
   "cell_type": "code",
   "execution_count": 6,
   "id": "e626c622-92d7-43fc-bcbf-8de1747a71ff",
   "metadata": {},
   "outputs": [],
   "source": [
    "from transformers import AutoTokenizer\n",
    "tokenizer = AutoTokenizer.from_pretrained(\"INSAIT-Institute/BgGPT-7B-Instruct-v0.2\")"
   ]
  },
  {
   "cell_type": "code",
   "execution_count": 10,
   "id": "78fe792f-65cf-4ec0-b8fc-24cc4f7acd71",
   "metadata": {},
   "outputs": [
    {
     "data": {
      "application/vnd.jupyter.widget-view+json": {
       "model_id": "c291189d6a8b4f2a98ab66e5a94d3840",
       "version_major": 2,
       "version_minor": 0
      },
      "text/plain": [
       "Running tokenizer on every text in dataset:   0%|          | 0/280019 [00:00<?, ? examples/s]"
      ]
     },
     "metadata": {},
     "output_type": "display_data"
    },
    {
     "data": {
      "application/vnd.jupyter.widget-view+json": {
       "model_id": "006851c7ecfc490d9715bb7a1093c6b2",
       "version_major": 2,
       "version_minor": 0
      },
      "text/plain": [
       "Running tokenizer on every text in dataset:   0%|          | 0/14738 [00:00<?, ? examples/s]"
      ]
     },
     "metadata": {},
     "output_type": "display_data"
    }
   ],
   "source": [
    "from bg2vec.preprocessing import tokenize_datasets\n",
    "\n",
    "tokenized_datasets = tokenize_datasets(raw_datasets, tokenizer, data_args, training_args)"
   ]
  },
  {
   "cell_type": "code",
   "execution_count": 12,
   "id": "95b3e510-2bc5-4ada-b02d-8c0a00f325ec",
   "metadata": {},
   "outputs": [],
   "source": [
    "from functools import partial\n",
    "from bg2vec.preprocessing import group_texts"
   ]
  },
  {
   "cell_type": "code",
   "execution_count": 14,
   "id": "f88aee70-21a1-4c54-a654-e22b6c1e9452",
   "metadata": {},
   "outputs": [
    {
     "data": {
      "application/vnd.jupyter.widget-view+json": {
       "model_id": "49df0c8b2c0340c99598ac437f4deb45",
       "version_major": 2,
       "version_minor": 0
      },
      "text/plain": [
       "Map:   0%|          | 0/280019 [00:00<?, ? examples/s]"
      ]
     },
     "metadata": {},
     "output_type": "display_data"
    },
    {
     "data": {
      "application/vnd.jupyter.widget-view+json": {
       "model_id": "a4baeb89bf99415397b2e87c9f905d5b",
       "version_major": 2,
       "version_minor": 0
      },
      "text/plain": [
       "Map:   0%|          | 0/14738 [00:00<?, ? examples/s]"
      ]
     },
     "metadata": {},
     "output_type": "display_data"
    }
   ],
   "source": [
    "grouped_datasets = tokenized_datasets.map(partial(group_texts, max_seq_length=512), batched=True)"
   ]
  },
  {
   "cell_type": "code",
   "execution_count": 15,
   "id": "369ef3e8-7963-4fbf-bf95-80650d85c6fd",
   "metadata": {},
   "outputs": [
    {
     "data": {
      "application/vnd.jupyter.widget-view+json": {
       "model_id": "b85509a6c1334115b45dac6478ca214b",
       "version_major": 2,
       "version_minor": 0
      },
      "text/plain": [
       "Saving the dataset (0/2 shards):   0%|          | 0/261935 [00:00<?, ? examples/s]"
      ]
     },
     "metadata": {},
     "output_type": "display_data"
    },
    {
     "data": {
      "application/vnd.jupyter.widget-view+json": {
       "model_id": "6b2c494f2cb34c37b19f13fa1f196980",
       "version_major": 2,
       "version_minor": 0
      },
      "text/plain": [
       "Saving the dataset (0/1 shards):   0%|          | 0/31990 [00:00<?, ? examples/s]"
      ]
     },
     "metadata": {},
     "output_type": "display_data"
    }
   ],
   "source": [
    "grouped_datasets.save_to_disk(\"grouped_512\")"
   ]
  }
 ],
 "metadata": {
  "kernelspec": {
   "display_name": "base",
   "language": "python",
   "name": "base"
  },
  "language_info": {
   "codemirror_mode": {
    "name": "ipython",
    "version": 3
   },
   "file_extension": ".py",
   "mimetype": "text/x-python",
   "name": "python",
   "nbconvert_exporter": "python",
   "pygments_lexer": "ipython3",
   "version": "3.11.5"
  }
 },
 "nbformat": 4,
 "nbformat_minor": 5
}
