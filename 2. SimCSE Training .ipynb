{
 "cells": [
  {
   "cell_type": "code",
   "execution_count": null,
   "id": "45155cf8-b83a-47f0-b7ac-378cf02c3688",
   "metadata": {},
   "outputs": [],
   "source": [
    "import logging\n",
    "from dataclasses import dataclass, field\n",
    "import os\n",
    "import sys\n",
    "from typing import Any, Dict, List, Optional, Tuple, Union\n",
    "\n",
    "import torch\n",
    "from torch import nn\n",
    "\n",
    "from accelerate import Accelerator, DistributedDataParallelKwargs\n",
    "from accelerate.logging import get_logger\n",
    "\n",
    "import transformers\n",
    "from transformers import (\n",
    "    MODEL_FOR_MASKED_LM_MAPPING,\n",
    "    HfArgumentParser,\n",
    "    TrainingArguments,\n",
    "    Trainer,\n",
    "    TrainerCallback,\n",
    "    set_seed,\n",
    ")\n",
    "from transformers.trainer_utils import seed_worker\n",
    "\n",
    "from peft import LoraConfig, get_peft_model\n",
    "\n",
    "from llm2vec import LLM2Vec\n",
    "from llm2vec.dataset.utils import load_dataset\n",
    "from llm2vec.loss.utils import load_loss\n",
    "\n",
    "from tqdm import tqdm\n",
    "\n",
    "MODEL_CONFIG_CLASSES = list(MODEL_FOR_MASKED_LM_MAPPING.keys())\n",
    "MODEL_TYPES = tuple(conf.model_type for conf in MODEL_CONFIG_CLASSES)"
   ]
  },
  {
   "cell_type": "code",
   "execution_count": null,
   "id": "ac853d8e-2420-4e8c-93a8-23307cce5751",
   "metadata": {
    "editable": true,
    "slideshow": {
     "slide_type": ""
    },
    "tags": []
   },
   "outputs": [],
   "source": [
    "from bg2vec.arguments import simcse_parser\n",
    "    \n",
    "model_args, data_args, training_args, custom_args = simcse_parser.parse_json_file(\n",
    "        \"model_configurations/bggpt-7b-simcse.json\"\n",
    "    )\n",
    "if training_args.ddp_find_unused_parameters:\n",
    "    kwargs = [\n",
    "        DistributedDataParallelKwargs(\n",
    "            dim=0,\n",
    "            broadcast_buffers=True,\n",
    "            bucket_cap_mb=25,\n",
    "            find_unused_parameters=True,\n",
    "            check_reduction=False,\n",
    "            gradient_as_bucket_view=False,\n",
    "        )\n",
    "    ]\n",
    "else:\n",
    "    kwargs = []"
   ]
  },
  {
   "cell_type": "code",
   "execution_count": null,
   "id": "ce69644a-2628-41fb-b692-1835da2fb6e6",
   "metadata": {},
   "outputs": [],
   "source": [
    "accelerator = Accelerator(kwargs_handlers=kwargs)\n",
    "\n",
    "set_seed(training_args.seed)\n",
    "\n",
    "if training_args.gradient_checkpointing:\n",
    "    training_args.gradient_checkpointing_kwargs = {\"use_reentrant\": False}"
   ]
  },
  {
   "cell_type": "code",
   "execution_count": null,
   "id": "b8317698-475e-4c40-8645-063164a7ec24",
   "metadata": {},
   "outputs": [],
   "source": [
    "import datasets"
   ]
  },
  {
   "cell_type": "code",
   "execution_count": null,
   "id": "ca5baf37-ded5-46e7-a5c7-950676556c58",
   "metadata": {},
   "outputs": [],
   "source": [
    "from bg2vec.data_util import PairedDataset, load_raw_datasets"
   ]
  },
  {
   "cell_type": "code",
   "execution_count": null,
   "id": "09b51df0-b9a2-4ff6-95d4-ff83d85bccec",
   "metadata": {},
   "outputs": [],
   "source": [
    "%reload_ext autoreload\n",
    "%autoreload 2"
   ]
  },
  {
   "cell_type": "code",
   "execution_count": null,
   "id": "74dd9f99-503b-4748-9ab0-bbce09ffb1ca",
   "metadata": {},
   "outputs": [],
   "source": [
    "datasets = load_raw_datasets(data_args, model_args)\n",
    "train_dataset = PairedDataset(datasets['train'])\n",
    "valid_dataset = PairedDataset(datasets['validation'])"
   ]
  },
  {
   "cell_type": "code",
   "execution_count": null,
   "id": "57086f1b-774c-460b-9117-11360efa658a",
   "metadata": {},
   "outputs": [],
   "source": [
    "train_examples = [\n",
    "    train_dataset[i]\n",
    "    for i in tqdm(\n",
    "        range(len(train_dataset)),\n",
    "        desc=\"Loading train examples...\",\n",
    "        disable=not accelerator.is_main_process,\n",
    "    )\n",
    "]\n",
    "validation_examples = [\n",
    "    valid_dataset[i]\n",
    "    for i in tqdm(\n",
    "        range(len(valid_dataset)),\n",
    "        desc=\"Loading train examples...\",\n",
    "        disable=not accelerator.is_main_process,\n",
    "    )\n",
    "]\n",
    "torch_dtype = (\n",
    "    model_args.torch_dtype\n",
    "    if model_args.torch_dtype in [\"auto\", None]\n",
    "    else getattr(torch, model_args.torch_dtype)\n",
    ")\n",
    "    "
   ]
  },
  {
   "cell_type": "code",
   "execution_count": null,
   "id": "5ee2a613-7f34-4e14-9011-012281cb7c7f",
   "metadata": {},
   "outputs": [],
   "source": [
    "model_args"
   ]
  },
  {
   "cell_type": "code",
   "execution_count": null,
   "id": "3cda585a-91b7-4007-93c6-e97f84095d33",
   "metadata": {},
   "outputs": [],
   "source": [
    "model = LLM2Vec.from_pretrained(\n",
    "    base_model_name_or_path=model_args.model_name_or_path,\n",
    "    enable_bidirectional=model_args.bidirectional,\n",
    "    peft_model_name_or_path=model_args.peft_model_name_or_path,\n",
    "    merge_peft=True,\n",
    "    pooling_mode=model_args.pooling_mode,\n",
    "    max_length=model_args.max_seq_length,\n",
    "    torch_dtype=torch_dtype,\n",
    "    attn_implementation=model_args.attn_implementation,\n",
    "    attention_dropout=custom_args.simcse_dropout,\n",
    "    cache_dir=\"/data/bggpt/\"\n",
    ")"
   ]
  },
  {
   "cell_type": "code",
   "execution_count": null,
   "id": "9397557e-97b3-4a57-a19b-1b872368fa7e",
   "metadata": {},
   "outputs": [],
   "source": [
    "model.tokenizer.model_max_length = 512"
   ]
  },
  {
   "cell_type": "code",
   "execution_count": null,
   "id": "f99b7518-5c75-4110-91e5-967571b607de",
   "metadata": {},
   "outputs": [],
   "source": [
    "from bg2vec.model import initialize_peft"
   ]
  },
  {
   "cell_type": "code",
   "execution_count": null,
   "id": "b7a863f0-c95a-4a5c-9c6d-9fa7c0111590",
   "metadata": {},
   "outputs": [],
   "source": [
    "# model organization is LLM2VecModel.model -> HF Model, we have to apply PEFT to the inner model\n",
    "model.model = initialize_peft(\n",
    "    model.model,\n",
    "    lora_r=custom_args.lora_r,\n",
    "    lora_alpha=2 * custom_args.lora_r,\n",
    "    lora_dropout=custom_args.lora_dropout,\n",
    ")"
   ]
  },
  {
   "cell_type": "code",
   "execution_count": null,
   "id": "4a3470e4-9618-4c49-b6f0-45e778e326be",
   "metadata": {},
   "outputs": [],
   "source": [
    "from bg2vec.training import SimCSEDefaultCollator, SimCSETrainer"
   ]
  },
  {
   "cell_type": "code",
   "execution_count": null,
   "id": "c319777a-41cf-40a0-a6fe-76dd48e528fe",
   "metadata": {},
   "outputs": [],
   "source": [
    "train_loss = load_loss(custom_args.loss_class, scale=custom_args.loss_scale)\n",
    "data_collator = SimCSEDefaultCollator(model)"
   ]
  },
  {
   "cell_type": "code",
   "execution_count": null,
   "id": "77fdb952-8625-414c-9987-7cc5ec120be1",
   "metadata": {},
   "outputs": [],
   "source": [
    "trainer = SimCSETrainer(\n",
    "    model=model,\n",
    "    args=training_args,\n",
    "    train_dataset=train_examples,\n",
    "    eval_dataset=validation_examples,\n",
    "    data_collator=data_collator,\n",
    "    tokenizer=model.tokenizer,\n",
    "    loss_function=train_loss,\n",
    ")\n",
    "\n",
    "if custom_args.stop_after_n_steps is not None:\n",
    "    trainer.add_callback(StopTrainingCallback(custom_args.stop_after_n_steps))\n",
    "trainer.callback_handler.remove_callback(transformers.integrations.integration_utils.WandbCallback)"
   ]
  },
  {
   "cell_type": "code",
   "execution_count": null,
   "id": "61540949-32e3-45d1-9838-7159433de2a7",
   "metadata": {},
   "outputs": [],
   "source": [
    "trainer.train()"
   ]
  },
  {
   "cell_type": "code",
   "execution_count": null,
   "id": "3618c67d-1045-41ec-a157-80d64387b676",
   "metadata": {},
   "outputs": [],
   "source": []
  }
 ],
 "metadata": {
  "kernelspec": {
   "display_name": "base",
   "language": "python",
   "name": "base"
  },
  "language_info": {
   "codemirror_mode": {
    "name": "ipython",
    "version": 3
   },
   "file_extension": ".py",
   "mimetype": "text/x-python",
   "name": "python",
   "nbconvert_exporter": "python",
   "pygments_lexer": "ipython3",
   "version": "3.11.5"
  }
 },
 "nbformat": 4,
 "nbformat_minor": 5
}
