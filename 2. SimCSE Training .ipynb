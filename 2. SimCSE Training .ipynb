{
 "cells": [
  {
   "cell_type": "code",
   "execution_count": null,
   "id": "45155cf8-b83a-47f0-b7ac-378cf02c3688",
   "metadata": {},
   "outputs": [],
   "source": [
    "import torch\n",
    "from accelerate import Accelerator, DistributedDataParallelKwargs\n",
    "import transformers\n",
    "from tqdm import tqdm"
   ]
  },
  {
   "cell_type": "code",
   "execution_count": null,
   "id": "ac853d8e-2420-4e8c-93a8-23307cce5751",
   "metadata": {
    "editable": true,
    "slideshow": {
     "slide_type": ""
    },
    "tags": []
   },
   "outputs": [],
   "source": [
    "from bg2vec.arguments import simcse_parser\n",
    "    \n",
    "model_args, data_args, training_args, custom_args = simcse_parser.parse_json_file(\n",
    "        \"model_configurations/bggpt-7b-simcse.json\"\n",
    "    )\n",
    "accelerator = Accelerator()\n",
    "transformers.set_seed(training_args.seed)\n",
    "if training_args.gradient_checkpointing:\n",
    "    training_args.gradient_checkpointing_kwargs = {\"use_reentrant\": False}"
   ]
  },
  {
   "cell_type": "markdown",
   "id": "8ab6c60c-3db2-445f-bb97-5efac013ef5d",
   "metadata": {},
   "source": [
    "# Loading the data"
   ]
  },
  {
   "cell_type": "code",
   "execution_count": null,
   "id": "b8317698-475e-4c40-8645-063164a7ec24",
   "metadata": {},
   "outputs": [],
   "source": [
    "from bg2vec.data_util import PairedDataset, load_raw_datasets"
   ]
  },
  {
   "cell_type": "code",
   "execution_count": null,
   "id": "74dd9f99-503b-4748-9ab0-bbce09ffb1ca",
   "metadata": {},
   "outputs": [],
   "source": [
    "datasets = load_raw_datasets(data_args, model_args)\n",
    "train_dataset = PairedDataset(datasets['train'])\n",
    "valid_dataset = PairedDataset(datasets['validation'])\n",
    "train_examples = [train_dataset[i] \n",
    "                  for i in tqdm(range(len(train_dataset)),desc=\"Loading train examples...\",disable=not accelerator.is_main_process)\n",
    "]\n",
    "validation_examples = [\n",
    "    valid_dataset[i]\n",
    "    for i in tqdm(\n",
    "        range(len(valid_dataset)),\n",
    "        desc=\"Loading train examples...\",\n",
    "        disable=not accelerator.is_main_process,\n",
    "    )\n",
    "]"
   ]
  },
  {
   "cell_type": "markdown",
   "id": "ae246bda-4bb2-4506-9940-001fc8cc512b",
   "metadata": {},
   "source": [
    "# Loading the model"
   ]
  },
  {
   "cell_type": "code",
   "execution_count": null,
   "id": "3cda585a-91b7-4007-93c6-e97f84095d33",
   "metadata": {},
   "outputs": [],
   "source": [
    "from llm2vec import LLM2Vec\n",
    "\n",
    "model = LLM2Vec.from_pretrained(\n",
    "    base_model_name_or_path=model_args.model_name_or_path,\n",
    "    enable_bidirectional=model_args.bidirectional,\n",
    "    peft_model_name_or_path=model_args.peft_model_name_or_path,\n",
    "    merge_peft=True,\n",
    "    pooling_mode=model_args.pooling_mode,\n",
    "    max_length=model_args.max_seq_length,\n",
    "    torch_dtype=getattr(torch, model_args.torch_dtype),\n",
    "    attn_implementation=model_args.attn_implementation,\n",
    "    attention_dropout=custom_args.simcse_dropout,\n",
    "    cache_dir=\"/data/bggpt/\"\n",
    ")\n",
    "model"
   ]
  },
  {
   "cell_type": "code",
   "execution_count": null,
   "id": "f99b7518-5c75-4110-91e5-967571b607de",
   "metadata": {},
   "outputs": [],
   "source": [
    "from bg2vec.model import initialize_peft"
   ]
  },
  {
   "cell_type": "code",
   "execution_count": null,
   "id": "b7a863f0-c95a-4a5c-9c6d-9fa7c0111590",
   "metadata": {},
   "outputs": [],
   "source": [
    "# model organization is LLM2VecModel.model -> HF Model, we have to apply PEFT to the inner model\n",
    "model.model = initialize_peft(\n",
    "    model.model,\n",
    "    lora_r=custom_args.lora_r,\n",
    "    lora_alpha=2 * custom_args.lora_r,\n",
    "    lora_dropout=custom_args.lora_dropout,\n",
    ")\n",
    "model"
   ]
  },
  {
   "cell_type": "markdown",
   "id": "ab6f01d1-efbf-43eb-94f0-673795bcbd2d",
   "metadata": {},
   "source": [
    "## Training"
   ]
  },
  {
   "cell_type": "code",
   "execution_count": null,
   "id": "9c46c10e-b31c-4d0b-98fb-c8f2e4651063",
   "metadata": {},
   "outputs": [],
   "source": [
    "from llm2vec.loss.utils import load_loss\n",
    "train_loss = load_loss(custom_args.loss_class, scale=custom_args.loss_scale)\n",
    "train_loss"
   ]
  },
  {
   "cell_type": "code",
   "execution_count": null,
   "id": "db4b7093-a176-4cac-a078-853451d337ee",
   "metadata": {},
   "outputs": [],
   "source": [
    "from bg2vec.training import SimCSEDefaultCollator\n",
    "data_collator = SimCSEDefaultCollator(model.tokenize)"
   ]
  },
  {
   "cell_type": "code",
   "execution_count": null,
   "id": "77fdb952-8625-414c-9987-7cc5ec120be1",
   "metadata": {},
   "outputs": [],
   "source": [
    "from bg2vec.training import SimCSETrainer, StopTrainingCallback\n",
    "trainer = SimCSETrainer(\n",
    "    model=model,\n",
    "    args=training_args,\n",
    "    train_dataset=train_examples,\n",
    "    eval_dataset=validation_examples,\n",
    "    data_collator=data_collator,\n",
    "    tokenizer=model.tokenizer,\n",
    "    loss_function=train_loss,\n",
    ")\n",
    "\n",
    "if custom_args.stop_after_n_steps is not None:\n",
    "    trainer.add_callback(StopTrainingCallback(custom_args.stop_after_n_steps))\n",
    "trainer.callback_handler.remove_callback(transformers.integrations.integration_utils.WandbCallback)"
   ]
  },
  {
   "cell_type": "code",
   "execution_count": null,
   "id": "61540949-32e3-45d1-9838-7159433de2a7",
   "metadata": {},
   "outputs": [],
   "source": [
    "trainer.train()"
   ]
  }
 ],
 "metadata": {
  "kernelspec": {
   "display_name": "base",
   "language": "python",
   "name": "base"
  },
  "language_info": {
   "codemirror_mode": {
    "name": "ipython",
    "version": 3
   },
   "file_extension": ".py",
   "mimetype": "text/x-python",
   "name": "python",
   "nbconvert_exporter": "python",
   "pygments_lexer": "ipython3",
   "version": "3.11.5"
  }
 },
 "nbformat": 4,
 "nbformat_minor": 5
}
