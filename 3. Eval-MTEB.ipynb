{
 "cells": [
  {
   "cell_type": "code",
   "execution_count": 1,
   "id": "7bf753b3-5f4b-4c4b-a021-eb72251d0833",
   "metadata": {
    "tags": []
   },
   "outputs": [],
   "source": [
    "from bg2vec import Bg2Vec\n",
    "import torch\n",
    "from mteb import MTEB\n",
    "import mteb"
   ]
  },
  {
   "cell_type": "code",
   "execution_count": 3,
   "id": "28dde290-8ef7-4463-a10a-c448cfca7657",
   "metadata": {
    "tags": []
   },
   "outputs": [
    {
     "name": "stderr",
     "output_type": "stream",
     "text": [
      "/usr/local/lib/python3.11/dist-packages/huggingface_hub/file_download.py:1150: FutureWarning: `resume_download` is deprecated and will be removed in version 1.0.0. Downloads always resume when possible. If you want to force a new download, use `force_download=True`.\n",
      "  warnings.warn(\n"
     ]
    },
    {
     "data": {
      "application/vnd.jupyter.widget-view+json": {
       "model_id": "39e7267aad044482a4f477b4bfdd6fb2",
       "version_major": 2,
       "version_minor": 0
      },
      "text/plain": [
       "tokenizer_config.json:   0%|          | 0.00/1.44k [00:00<?, ?B/s]"
      ]
     },
     "metadata": {},
     "output_type": "display_data"
    },
    {
     "data": {
      "application/vnd.jupyter.widget-view+json": {
       "model_id": "ce451b65d2654b8b88f8edcb29975bc4",
       "version_major": 2,
       "version_minor": 0
      },
      "text/plain": [
       "tokenizer.model:   0%|          | 0.00/624k [00:00<?, ?B/s]"
      ]
     },
     "metadata": {},
     "output_type": "display_data"
    },
    {
     "data": {
      "application/vnd.jupyter.widget-view+json": {
       "model_id": "fa20fdae492544deb97a11469b3e554e",
       "version_major": 2,
       "version_minor": 0
      },
      "text/plain": [
       "tokenizer.json:   0%|          | 0.00/2.21M [00:00<?, ?B/s]"
      ]
     },
     "metadata": {},
     "output_type": "display_data"
    },
    {
     "data": {
      "application/vnd.jupyter.widget-view+json": {
       "model_id": "1ec9820e3b2d400b9dce7cb1447734e4",
       "version_major": 2,
       "version_minor": 0
      },
      "text/plain": [
       "special_tokens_map.json:   0%|          | 0.00/552 [00:00<?, ?B/s]"
      ]
     },
     "metadata": {},
     "output_type": "display_data"
    },
    {
     "data": {
      "application/vnd.jupyter.widget-view+json": {
       "model_id": "45013d7f59044bcb825c78dced9ada19",
       "version_major": 2,
       "version_minor": 0
      },
      "text/plain": [
       "config.json:   0%|          | 0.00/652 [00:00<?, ?B/s]"
      ]
     },
     "metadata": {},
     "output_type": "display_data"
    },
    {
     "data": {
      "application/vnd.jupyter.widget-view+json": {
       "model_id": "b425920e5ced412abfe9be8f412483da",
       "version_major": 2,
       "version_minor": 0
      },
      "text/plain": [
       "model.safetensors.index.json:   0%|          | 0.00/22.2k [00:00<?, ?B/s]"
      ]
     },
     "metadata": {},
     "output_type": "display_data"
    },
    {
     "data": {
      "application/vnd.jupyter.widget-view+json": {
       "model_id": "e5e78860b74b4b47be367e740d2cefe5",
       "version_major": 2,
       "version_minor": 0
      },
      "text/plain": [
       "Downloading shards:   0%|          | 0/3 [00:00<?, ?it/s]"
      ]
     },
     "metadata": {},
     "output_type": "display_data"
    },
    {
     "data": {
      "application/vnd.jupyter.widget-view+json": {
       "model_id": "707467b91b134292972e55a7eb22d719",
       "version_major": 2,
       "version_minor": 0
      },
      "text/plain": [
       "model-00001-of-00003.safetensors:   0%|          | 0.00/4.99G [00:00<?, ?B/s]"
      ]
     },
     "metadata": {},
     "output_type": "display_data"
    },
    {
     "data": {
      "application/vnd.jupyter.widget-view+json": {
       "model_id": "c92cebd8560d46c58b0395bda9f4feff",
       "version_major": 2,
       "version_minor": 0
      },
      "text/plain": [
       "model-00002-of-00003.safetensors:   0%|          | 0.00/5.00G [00:00<?, ?B/s]"
      ]
     },
     "metadata": {},
     "output_type": "display_data"
    },
    {
     "data": {
      "application/vnd.jupyter.widget-view+json": {
       "model_id": "971ca19e352345a3a188e959cf270315",
       "version_major": 2,
       "version_minor": 0
      },
      "text/plain": [
       "model-00003-of-00003.safetensors:   0%|          | 0.00/4.28G [00:00<?, ?B/s]"
      ]
     },
     "metadata": {},
     "output_type": "display_data"
    },
    {
     "name": "stderr",
     "output_type": "stream",
     "text": [
      "You are attempting to use Flash Attention 2.0 with a model not initialized on GPU. Make sure to move the model to GPU after initializing it on CPU with `model.to('cuda')`.\n"
     ]
    },
    {
     "data": {
      "application/vnd.jupyter.widget-view+json": {
       "model_id": "27673253bc434affb79a566e0e92aead",
       "version_major": 2,
       "version_minor": 0
      },
      "text/plain": [
       "Loading checkpoint shards:   0%|          | 0/3 [00:00<?, ?it/s]"
      ]
     },
     "metadata": {},
     "output_type": "display_data"
    }
   ],
   "source": [
    "bg2vec = Bg2Vec.from_pretrained(attn_implementation='flash_attention_2',torch_dtype=torch.bfloat16).cuda()"
   ]
  },
  {
   "cell_type": "code",
   "execution_count": 25,
   "id": "df7500aa-1db7-4e7e-b457-1c8d929a8c71",
   "metadata": {
    "tags": []
   },
   "outputs": [
    {
     "data": {
      "text/plain": [
       "(9,\n",
       " MTEBTasks(BulgarianStoreReviewSentimentClassfication(name='BulgarianStoreReviewSentimentClassfication', languages=['bul']), LanguageClassification(name='LanguageClassification', languages=['ara', 'bul', 'cmn', '...']), MultilingualSentimentClassification(name='MultilingualSentimentClassification', languages=['bul']), SIB200Classification(name='SIB200Classification', languages=['bul']), SIB200ClusteringFast(name='SIB200ClusteringS2S', languages=['bul']), BelebeleRetrieval(name='BelebeleRetrieval', languages=['bul', 'eng']), WikipediaRetrievalMultilingual(name='WikipediaRetrievalMultilingual', languages=['bul']), XNLI(name='XNLI', languages=['bul']), WikipediaRerankingMultilingual(name='WikipediaRerankingMultilingual', languages=['bul'])))"
      ]
     },
     "execution_count": 25,
     "metadata": {},
     "output_type": "execute_result"
    }
   ],
   "source": [
    "tasks = mteb.get_tasks(languages=[\"bul\"],task_types=[\"Retrieval\", \n",
    "                                                     \"Classification\",\n",
    "                                                    \"Clustering\",\n",
    "                                                     \"Reranking\",\n",
    "                                                     \"PairClassification\"\n",
    "                                                    ])\n",
    "len(tasks), tasks"
   ]
  },
  {
   "cell_type": "code",
   "execution_count": 16,
   "id": "eb5b5400-166f-4bd4-a266-76aee28c4bfd",
   "metadata": {
    "tags": []
   },
   "outputs": [],
   "source": [
    "model_name = \"mboyanov/bg2vec\"\n",
    "inner_encode = bg2vec.encode\n",
    "\n",
    "def wrapped(self, *args,prompt_name=None, **kwargs):\n",
    "    return inner_encode(self, *args, **kwargs)\n",
    "\n",
    "bg2vec.encode = wrapped"
   ]
  },
  {
   "cell_type": "code",
   "execution_count": 26,
   "id": "893c410f-a727-4249-8c17-a25133bef4e0",
   "metadata": {
    "tags": []
   },
   "outputs": [
    {
     "ename": "NameError",
     "evalue": "name 'bg2vec' is not defined",
     "output_type": "error",
     "traceback": [
      "\u001b[0;31m---------------------------------------------------------------------------\u001b[0m",
      "\u001b[0;31mNameError\u001b[0m                                 Traceback (most recent call last)",
      "Cell \u001b[0;32mIn[26], line 3\u001b[0m\n\u001b[1;32m      1\u001b[0m evaluation \u001b[38;5;241m=\u001b[39m MTEB(tasks\u001b[38;5;241m=\u001b[39mtasks)\n\u001b[0;32m----> 3\u001b[0m results \u001b[38;5;241m=\u001b[39m evaluation\u001b[38;5;241m.\u001b[39mrun(\u001b[43mbg2vec\u001b[49m, output_folder\u001b[38;5;241m=\u001b[39m\u001b[38;5;124mf\u001b[39m\u001b[38;5;124m\"\u001b[39m\u001b[38;5;124mresults/\u001b[39m\u001b[38;5;132;01m{\u001b[39;00mmodel_name\u001b[38;5;132;01m}\u001b[39;00m\u001b[38;5;124m\"\u001b[39m)\n",
      "\u001b[0;31mNameError\u001b[0m: name 'bg2vec' is not defined"
     ]
    }
   ],
   "source": [
    "evaluation = MTEB(tasks=tasks,)\n",
    "\n",
    "results = evaluation.run(bg2vec, output_folder=f\"results/{model_name}\")"
   ]
  }
 ],
 "metadata": {
  "kernelspec": {
   "display_name": "Python 3 (ipykernel)",
   "language": "python",
   "name": "python3"
  },
  "language_info": {
   "codemirror_mode": {
    "name": "ipython",
    "version": 3
   },
   "file_extension": ".py",
   "mimetype": "text/x-python",
   "name": "python",
   "nbconvert_exporter": "python",
   "pygments_lexer": "ipython3",
   "version": "3.11.5"
  }
 },
 "nbformat": 4,
 "nbformat_minor": 5
}
